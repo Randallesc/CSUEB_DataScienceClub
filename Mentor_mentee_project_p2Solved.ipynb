{
 "cells": [
  {
   "cell_type": "markdown",
   "metadata": {},
   "source": [
    "# CSUEB Data Science Club Fall 2020 Project"
   ]
  },
  {
   "cell_type": "markdown",
   "metadata": {},
   "source": [
    "This project is for undergraduate and graduate students who are looking for an extracurricular project to sharpen their data science skills. The problem is based off a real mentorship program being offered by the San Francisco Professional Chapter of ALPFA in partnership with the CSUEB Student Chapter of ALPFA. The program was launched over the summer 2020 and will have recurring periodic enrollment moving forward, this project seeks to automate the matching of mentors/mentees, a process which is being done manually. The tasks will be broken up into three sections, beginning with the creation of our mock survey results below. The first task: Mentee Ranking, will be solved at our club's second live event later this semester, and the last task: Stable Matching, will be solved at our club's final event at the end of the semester. Direct any questions to info.csueb.dsc@gmail.com. Happy problem solving!"
   ]
  },
  {
   "cell_type": "markdown",
   "metadata": {},
   "source": [
    "#### We begin by importing some basic packages"
   ]
  },
  {
   "cell_type": "code",
   "execution_count": 2,
   "metadata": {},
   "outputs": [],
   "source": [
    "import random\n",
    "import pandas as pd"
   ]
  },
  {
   "cell_type": "markdown",
   "metadata": {},
   "source": [
    "This is a function to generate a list of 10 random numbers from 0 to a specified number \"num\":"
   ]
  },
  {
   "cell_type": "code",
   "execution_count": 3,
   "metadata": {},
   "outputs": [],
   "source": [
    "def surveyCol(num):\n",
    "    return [random.randint(0, num) for _ in range(10)]"
   ]
  },
  {
   "cell_type": "markdown",
   "metadata": {},
   "source": [
    "This is script to create objects from a class called \"Participants,\" these objects are structured like a dictionary with key-value pairs but will need to be converted to a \"dict\" type for us to perform dictionary operations on them."
   ]
  },
  {
   "cell_type": "code",
   "execution_count": 4,
   "metadata": {},
   "outputs": [],
   "source": [
    "class Participant:\n",
    "    def __init__(self, name):\n",
    "        self.name = name\n",
    "        self.primary = surveyCol(5)\n",
    "        self.ideal_match = surveyCol(5)\n",
    "        self.level_of_importance = surveyCol(2)"
   ]
  },
  {
   "cell_type": "markdown",
   "metadata": {},
   "source": [
    "Here is our lists of participating mentors and mentees."
   ]
  },
  {
   "cell_type": "code",
   "execution_count": 5,
   "metadata": {},
   "outputs": [],
   "source": [
    "mentor_names = ['Jose', 'Amanda', 'Francisco', 'Megan', 'Phil', 'Carla']\n",
    "mentee_names = ['Chris', 'Kevin', 'Rachel', 'Monica', 'Emily', 'William']"
   ]
  },
  {
   "cell_type": "markdown",
   "metadata": {},
   "source": [
    "These are two functions, the first takes dictionary structured objects converts them to a dictionary format, and will be called in our second function. \"surveyGroup\" takes a list of strings as an argument and creates a \"Participant\" object from each string, and calls the \"convert\" function on each object. A new list of dictionaries is returned."
   ]
  },
  {
   "cell_type": "code",
   "execution_count": 6,
   "metadata": {},
   "outputs": [],
   "source": [
    "def convert(dict):\n",
    "    dict = dict.__dict__\n",
    "    return dict\n",
    "\n",
    "def surveyGroup(list):\n",
    "    user_list = []\n",
    "    for i in range(len(list)):\n",
    "        user_list.append(convert(Participant(list[i])))\n",
    "    return user_list"
   ]
  },
  {
   "cell_type": "markdown",
   "metadata": {},
   "source": [
    "Here we pass our lists of participating mentor and mentee names to the above functions and get our new lists with each name, primary survey answers, ideal matches survey answers and a level of importance survey responses as keys with their respective values."
   ]
  },
  {
   "cell_type": "code",
   "execution_count": 7,
   "metadata": {},
   "outputs": [],
   "source": [
    "mentors = surveyGroup(mentor_names)\n",
    "mentees = surveyGroup(mentee_names)"
   ]
  },
  {
   "cell_type": "markdown",
   "metadata": {},
   "source": [
    "Here we print out our newly created lists"
   ]
  },
  {
   "cell_type": "code",
   "execution_count": 8,
   "metadata": {},
   "outputs": [
    {
     "name": "stdout",
     "output_type": "stream",
     "text": [
      "{'name': 'Jose', 'primary': [1, 3, 2, 3, 4, 2, 1, 3, 5, 0], 'ideal_match': [1, 4, 4, 2, 4, 3, 4, 1, 5, 1], 'level_of_importance': [1, 2, 2, 0, 2, 1, 0, 0, 0, 1]}\n",
      "{'name': 'Amanda', 'primary': [1, 1, 1, 2, 4, 2, 2, 1, 2, 5], 'ideal_match': [0, 3, 5, 4, 5, 4, 5, 2, 5, 4], 'level_of_importance': [1, 1, 1, 0, 1, 2, 2, 1, 0, 1]}\n",
      "{'name': 'Francisco', 'primary': [2, 2, 1, 4, 1, 1, 4, 1, 5, 2], 'ideal_match': [0, 4, 5, 1, 0, 1, 0, 4, 3, 0], 'level_of_importance': [2, 0, 2, 1, 2, 2, 1, 2, 2, 0]}\n",
      "{'name': 'Megan', 'primary': [3, 1, 2, 3, 0, 2, 5, 4, 3, 3], 'ideal_match': [4, 5, 1, 5, 4, 3, 0, 3, 5, 0], 'level_of_importance': [1, 1, 1, 2, 2, 0, 0, 1, 1, 2]}\n",
      "{'name': 'Phil', 'primary': [1, 2, 1, 5, 5, 1, 3, 4, 5, 2], 'ideal_match': [2, 1, 4, 1, 3, 1, 1, 3, 1, 3], 'level_of_importance': [0, 0, 1, 1, 1, 0, 0, 1, 1, 0]}\n",
      "{'name': 'Carla', 'primary': [3, 5, 0, 4, 0, 0, 3, 5, 0, 1], 'ideal_match': [0, 5, 3, 0, 3, 4, 4, 2, 5, 1], 'level_of_importance': [0, 2, 2, 2, 1, 1, 1, 2, 2, 1]}\n"
     ]
    }
   ],
   "source": [
    "for mentor in mentors:\n",
    "    print(mentor)"
   ]
  },
  {
   "cell_type": "code",
   "execution_count": 9,
   "metadata": {},
   "outputs": [
    {
     "name": "stdout",
     "output_type": "stream",
     "text": [
      "{'name': 'Chris', 'primary': [0, 0, 5, 1, 4, 2, 4, 1, 0, 5], 'ideal_match': [1, 4, 3, 4, 3, 4, 2, 3, 5, 4], 'level_of_importance': [0, 0, 1, 1, 0, 2, 0, 1, 0, 0]}\n",
      "{'name': 'Kevin', 'primary': [0, 0, 2, 1, 1, 5, 2, 3, 5, 4], 'ideal_match': [0, 0, 2, 1, 2, 3, 2, 5, 2, 2], 'level_of_importance': [2, 0, 1, 2, 2, 2, 2, 0, 2, 0]}\n",
      "{'name': 'Rachel', 'primary': [1, 3, 4, 2, 0, 0, 5, 3, 0, 5], 'ideal_match': [3, 0, 5, 5, 2, 5, 0, 4, 5, 2], 'level_of_importance': [1, 2, 2, 2, 0, 1, 1, 0, 0, 0]}\n",
      "{'name': 'Monica', 'primary': [0, 0, 1, 3, 5, 1, 0, 1, 1, 1], 'ideal_match': [3, 4, 1, 4, 2, 2, 0, 2, 2, 1], 'level_of_importance': [1, 1, 2, 1, 0, 2, 1, 0, 0, 0]}\n",
      "{'name': 'Emily', 'primary': [1, 0, 1, 1, 4, 0, 1, 4, 3, 0], 'ideal_match': [5, 1, 5, 0, 1, 5, 2, 5, 4, 4], 'level_of_importance': [1, 0, 1, 0, 1, 2, 1, 1, 2, 1]}\n",
      "{'name': 'William', 'primary': [3, 2, 1, 0, 5, 1, 2, 2, 5, 5], 'ideal_match': [0, 3, 5, 2, 5, 1, 1, 4, 5, 5], 'level_of_importance': [2, 0, 1, 1, 2, 0, 2, 2, 0, 2]}\n"
     ]
    }
   ],
   "source": [
    "for mentee in mentees:\n",
    "    print(mentee)"
   ]
  },
  {
   "cell_type": "markdown",
   "metadata": {},
   "source": [
    "#### In this step we want to convert our list items(dictionaries), to data frames to make them easier to work with in performing analysis. This is a problem because the first key is not like the others in that it is a string and not a list of 10 integers. We remove it with the pop() function."
   ]
  },
  {
   "cell_type": "code",
   "execution_count": 10,
   "metadata": {},
   "outputs": [],
   "source": [
    "for mentor in mentors:\n",
    "    mentor.pop('name')"
   ]
  },
  {
   "cell_type": "markdown",
   "metadata": {},
   "source": [
    "Now we must assign the corresponding survey response key-value pairs to a variable with the participating mentor's name:"
   ]
  },
  {
   "cell_type": "code",
   "execution_count": 11,
   "metadata": {},
   "outputs": [],
   "source": [
    "Jose = pd.DataFrame.from_dict(mentors[0])\n",
    "Amanda = pd.DataFrame.from_dict(mentors[1])\n",
    "Francisco = pd.DataFrame.from_dict(mentors[2])\n",
    "Megan = pd.DataFrame.from_dict(mentors[3])\n",
    "Phil = pd.DataFrame.from_dict(mentors[4])\n",
    "Carla = pd.DataFrame.from_dict(mentors[5])"
   ]
  },
  {
   "cell_type": "markdown",
   "metadata": {},
   "source": [
    "We repeat this process for the mentees:"
   ]
  },
  {
   "cell_type": "code",
   "execution_count": 12,
   "metadata": {},
   "outputs": [],
   "source": [
    "for mentee in mentees:\n",
    "    mentee.pop('name')"
   ]
  },
  {
   "cell_type": "code",
   "execution_count": 13,
   "metadata": {},
   "outputs": [],
   "source": [
    "Chris = pd.DataFrame.from_dict(mentees[0])\n",
    "Kevin = pd.DataFrame.from_dict(mentees[1])\n",
    "Monica = pd.DataFrame.from_dict(mentees[2])\n",
    "Rachel = pd.DataFrame.from_dict(mentees[3])\n",
    "Emily = pd.DataFrame.from_dict(mentees[4])\n",
    "William = pd.DataFrame.from_dict(mentees[5])"
   ]
  },
  {
   "cell_type": "markdown",
   "metadata": {},
   "source": [
    "Finally we create a list of data frames to make parsing through them for analysis more efficient:"
   ]
  },
  {
   "cell_type": "code",
   "execution_count": 14,
   "metadata": {},
   "outputs": [],
   "source": [
    "df_mentors = [Jose, Amanda, Francisco, Megan, Phil, Carla]\n",
    "df_mentees = [Chris, Kevin, Monica, Rachel, Emily, William]"
   ]
  },
  {
   "cell_type": "markdown",
   "metadata": {},
   "source": [
    "### Task 1: Create a compatibility ranking system for mentors & mentees and return a dictionary with the name of each mentor as the value and a sorted list of mentees matched from most compatible to least compatible. "
   ]
  },
  {
   "cell_type": "code",
   "execution_count": 15,
   "metadata": {},
   "outputs": [],
   "source": [
    "#Your code here\n",
    "#Tip: Use the geometric mean of the mentor/mentee survey scores to determine compatibility score \n",
    "# used for ranking potential matches."
   ]
  },
  {
   "cell_type": "code",
   "execution_count": 16,
   "metadata": {
    "scrolled": true
   },
   "outputs": [
    {
     "name": "stdout",
     "output_type": "stream",
     "text": [
      "0    1\n",
      "1    3\n",
      "2    2\n",
      "3    3\n",
      "4    4\n",
      "5    2\n",
      "6    1\n",
      "7    3\n",
      "8    5\n",
      "9    0\n",
      "Name: primary, dtype: int64\n"
     ]
    }
   ],
   "source": [
    "print(Jose['primary'])"
   ]
  },
  {
   "cell_type": "code",
   "execution_count": 17,
   "metadata": {},
   "outputs": [
    {
     "name": "stdout",
     "output_type": "stream",
     "text": [
      "0    1\n",
      "1    4\n",
      "2    3\n",
      "3    4\n",
      "4    3\n",
      "5    4\n",
      "6    2\n",
      "7    3\n",
      "8    5\n",
      "9    4\n",
      "Name: ideal_match, dtype: int64\n"
     ]
    }
   ],
   "source": [
    "print(Chris['ideal_match'])"
   ]
  },
  {
   "cell_type": "markdown",
   "metadata": {},
   "source": [
    "This function takes two dataframes as arguements, the first of which is whose 'ideal_match' we will match against the second's 'primary' column. We then return a new list of values according to the matches or near matches from column value comparison: 1 if the values match exactly and 0.5 if they are off by 1."
   ]
  },
  {
   "cell_type": "code",
   "execution_count": 18,
   "metadata": {},
   "outputs": [],
   "source": [
    "def listComp(df1, df2):\n",
    "    n = 2\n",
    "    list_match = []\n",
    "    l_of_imp = []\n",
    "    list_of_diffs = df1.ideal_match - df2.primary\n",
    "    for i in list_of_diffs:\n",
    "        if abs(i) == 0:\n",
    "            list_match.append(1)\n",
    "        elif abs(i) == 1:\n",
    "            list_match.append(0.5)\n",
    "        else:\n",
    "            list_match.append(0)\n",
    "            \n",
    "    for j in df1.level_of_importance:\n",
    "        if j == 2:\n",
    "            l_of_imp.append(n**2)\n",
    "        elif j == 1:\n",
    "            l_of_imp.append(n)\n",
    "        else:\n",
    "            l_of_imp.append(0)\n",
    "    return [list_match[k] * l_of_imp[k] for k in range(len(list_match))]\n",
    "    "
   ]
  },
  {
   "cell_type": "code",
   "execution_count": 19,
   "metadata": {},
   "outputs": [
    {
     "data": {
      "text/plain": [
       "[1.0, 0, 2.0, 0.0, 4, 1.0, 0, 0, 0, 0]"
      ]
     },
     "execution_count": 19,
     "metadata": {},
     "output_type": "execute_result"
    }
   ],
   "source": [
    "# Testing the function\n",
    "listComp(Jose, Chris)"
   ]
  },
  {
   "cell_type": "code",
   "execution_count": 20,
   "metadata": {},
   "outputs": [
    {
     "data": {
      "text/plain": [
       "[0, 0.0, 1.0, 1.0, 0.0, 0, 0.0, 2, 0, 0]"
      ]
     },
     "execution_count": 20,
     "metadata": {},
     "output_type": "execute_result"
    }
   ],
   "source": [
    "listComp(Chris, Jose)"
   ]
  },
  {
   "cell_type": "markdown",
   "metadata": {},
   "source": [
    "This function takes two lists as arguements and returns their geometric mean, or the squared root of the product of the two lists."
   ]
  },
  {
   "cell_type": "code",
   "execution_count": 21,
   "metadata": {},
   "outputs": [],
   "source": [
    "def geoMean(list1, list2):\n",
    "    match_score1 = sum(list1)/len(list1)\n",
    "    match_score2 = sum(list2)/len(list2)\n",
    "    return (match_score1*match_score2)**0.5"
   ]
  },
  {
   "cell_type": "code",
   "execution_count": 22,
   "metadata": {},
   "outputs": [
    {
     "data": {
      "text/plain": [
       "0.5656854249492381"
      ]
     },
     "execution_count": 22,
     "metadata": {},
     "output_type": "execute_result"
    }
   ],
   "source": [
    "# Here we test the fucntion\n",
    "geoMean(listComp(Jose, Chris), listComp(Chris, Jose))"
   ]
  },
  {
   "cell_type": "markdown",
   "metadata": {},
   "source": [
    "This function takes a dataframe as an arguement and returns the name as a string."
   ]
  },
  {
   "cell_type": "code",
   "execution_count": 23,
   "metadata": {},
   "outputs": [],
   "source": [
    "def get_df_name(df):\n",
    "    name = [x for x in globals() if globals()[x] is df][0]\n",
    "    return name"
   ]
  },
  {
   "cell_type": "markdown",
   "metadata": {},
   "source": [
    "This function takes two dataframes as arguements combining the previous functions we have created and returns a dictionary with the first dataframe's matches sorted in descending order."
   ]
  },
  {
   "cell_type": "code",
   "execution_count": 24,
   "metadata": {},
   "outputs": [],
   "source": [
    "def matching(df_list1, df_list2):\n",
    "    dict1 = {}\n",
    "    dict2 = {}\n",
    "    for i in df_list1:\n",
    "        for j in df_list2:\n",
    "            dict2[get_df_name(j)] = round(geoMean(listComp(i, j), listComp(j, i)), 2)\n",
    "        dict1[get_df_name(i)] = sorted(dict2.items(), key=lambda x: x[1], reverse=True)\n",
    "    return dict1"
   ]
  },
  {
   "cell_type": "markdown",
   "metadata": {},
   "source": [
    "Here we test the function for the list of mentors matched to mentees and vice versa."
   ]
  },
  {
   "cell_type": "code",
   "execution_count": 25,
   "metadata": {},
   "outputs": [],
   "source": [
    "optimal_mentor_matches = matching(df_mentors, df_mentees)"
   ]
  },
  {
   "cell_type": "code",
   "execution_count": 26,
   "metadata": {},
   "outputs": [],
   "source": [
    "optimal_mentee_matches = matching(df_mentees, df_mentors)"
   ]
  },
  {
   "cell_type": "code",
   "execution_count": 27,
   "metadata": {},
   "outputs": [
    {
     "data": {
      "text/plain": [
       "{'Jose': [('Rachel', 0.67),\n",
       "  ('Chris', 0.57),\n",
       "  ('William', 0.47),\n",
       "  ('Emily', 0.46),\n",
       "  ('Kevin', 0.28),\n",
       "  ('Monica', 0.28)],\n",
       " 'Amanda': [('Kevin', 1.02),\n",
       "  ('William', 0.85),\n",
       "  ('Rachel', 0.63),\n",
       "  ('Monica', 0.45),\n",
       "  ('Emily', 0.24),\n",
       "  ('Chris', 0.0)],\n",
       " 'Francisco': [('Rachel', 0.95),\n",
       "  ('Emily', 0.77),\n",
       "  ('Monica', 0.62),\n",
       "  ('Kevin', 0.55),\n",
       "  ('Chris', 0.49),\n",
       "  ('William', 0.0)],\n",
       " 'Megan': [('Emily', 0.74),\n",
       "  ('Rachel', 0.73),\n",
       "  ('William', 0.63),\n",
       "  ('Kevin', 0.55),\n",
       "  ('Chris', 0.35),\n",
       "  ('Monica', 0.28)],\n",
       " 'Phil': [('Monica', 0.49),\n",
       "  ('Kevin', 0.45),\n",
       "  ('William', 0.45),\n",
       "  ('Emily', 0.4),\n",
       "  ('Rachel', 0.37),\n",
       "  ('Chris', 0.32)],\n",
       " 'Carla': [('Rachel', 0.53),\n",
       "  ('William', 0.49),\n",
       "  ('Kevin', 0.47),\n",
       "  ('Monica', 0.45),\n",
       "  ('Emily', 0.4),\n",
       "  ('Chris', 0.37)]}"
      ]
     },
     "execution_count": 27,
     "metadata": {},
     "output_type": "execute_result"
    }
   ],
   "source": [
    "optimal_mentor_matches"
   ]
  },
  {
   "cell_type": "code",
   "execution_count": 28,
   "metadata": {},
   "outputs": [
    {
     "data": {
      "text/plain": [
       "{'Chris': [('Jose', 0.57),\n",
       "  ('Francisco', 0.49),\n",
       "  ('Carla', 0.37),\n",
       "  ('Megan', 0.35),\n",
       "  ('Phil', 0.32),\n",
       "  ('Amanda', 0.0)],\n",
       " 'Kevin': [('Amanda', 1.02),\n",
       "  ('Francisco', 0.55),\n",
       "  ('Megan', 0.55),\n",
       "  ('Carla', 0.47),\n",
       "  ('Phil', 0.45),\n",
       "  ('Jose', 0.28)],\n",
       " 'Monica': [('Francisco', 0.62),\n",
       "  ('Phil', 0.49),\n",
       "  ('Amanda', 0.45),\n",
       "  ('Carla', 0.45),\n",
       "  ('Jose', 0.28),\n",
       "  ('Megan', 0.28)],\n",
       " 'Rachel': [('Francisco', 0.95),\n",
       "  ('Megan', 0.73),\n",
       "  ('Jose', 0.67),\n",
       "  ('Amanda', 0.63),\n",
       "  ('Carla', 0.53),\n",
       "  ('Phil', 0.37)],\n",
       " 'Emily': [('Francisco', 0.77),\n",
       "  ('Megan', 0.74),\n",
       "  ('Jose', 0.46),\n",
       "  ('Phil', 0.4),\n",
       "  ('Carla', 0.4),\n",
       "  ('Amanda', 0.24)],\n",
       " 'William': [('Amanda', 0.85),\n",
       "  ('Megan', 0.63),\n",
       "  ('Carla', 0.49),\n",
       "  ('Jose', 0.47),\n",
       "  ('Phil', 0.45),\n",
       "  ('Francisco', 0.0)]}"
      ]
     },
     "execution_count": 28,
     "metadata": {},
     "output_type": "execute_result"
    }
   ],
   "source": [
    "optimal_mentee_matches"
   ]
  },
  {
   "cell_type": "markdown",
   "metadata": {},
   "source": [
    "### Task 2: Based on the sorted list of potential matches pair every mentor with their best available mentee match."
   ]
  },
  {
   "cell_type": "code",
   "execution_count": 29,
   "metadata": {},
   "outputs": [],
   "source": [
    "#Your code here\n",
    "#Tip: Use the \"Stable Matching\" Algorithm."
   ]
  },
  {
   "cell_type": "markdown",
   "metadata": {},
   "source": [
    "We can start by looking at the first indexed value of our first mentor."
   ]
  },
  {
   "cell_type": "code",
   "execution_count": 30,
   "metadata": {},
   "outputs": [
    {
     "name": "stdout",
     "output_type": "stream",
     "text": [
      "('Rachel', 0.67)\n"
     ]
    }
   ],
   "source": [
    "print(optimal_mentor_matches['Jose'][0])"
   ]
  },
  {
   "cell_type": "markdown",
   "metadata": {},
   "source": [
    "Now we can create a list of all the possible matches, 36 in all. However, though they are sorted, they are sorted according to each individual mentor."
   ]
  },
  {
   "cell_type": "code",
   "execution_count": 31,
   "metadata": {},
   "outputs": [
    {
     "name": "stdout",
     "output_type": "stream",
     "text": [
      "Jose Rachel 0.67\n",
      "Jose Chris 0.57\n",
      "Jose William 0.47\n",
      "Jose Emily 0.46\n",
      "Jose Kevin 0.28\n",
      "Jose Monica 0.28\n",
      "Amanda Kevin 1.02\n",
      "Amanda William 0.85\n",
      "Amanda Rachel 0.63\n",
      "Amanda Monica 0.45\n",
      "Amanda Emily 0.24\n",
      "Amanda Chris 0.0\n",
      "Francisco Rachel 0.95\n",
      "Francisco Emily 0.77\n",
      "Francisco Monica 0.62\n",
      "Francisco Kevin 0.55\n",
      "Francisco Chris 0.49\n",
      "Francisco William 0.0\n",
      "Megan Emily 0.74\n",
      "Megan Rachel 0.73\n",
      "Megan William 0.63\n",
      "Megan Kevin 0.55\n",
      "Megan Chris 0.35\n",
      "Megan Monica 0.28\n",
      "Phil Monica 0.49\n",
      "Phil Kevin 0.45\n",
      "Phil William 0.45\n",
      "Phil Emily 0.4\n",
      "Phil Rachel 0.37\n",
      "Phil Chris 0.32\n",
      "Carla Rachel 0.53\n",
      "Carla William 0.49\n",
      "Carla Kevin 0.47\n",
      "Carla Monica 0.45\n",
      "Carla Emily 0.4\n",
      "Carla Chris 0.37\n"
     ]
    }
   ],
   "source": [
    "for key, value in optimal_mentor_matches.items():\n",
    "    for k, v in value:\n",
    "        print(key, k, v)"
   ]
  },
  {
   "cell_type": "markdown",
   "metadata": {},
   "source": [
    "What we are going to need a method to sort all of the possible matches, so we can write a function to append all the possible matches from the nested dictionaries to one large master list. "
   ]
  },
  {
   "cell_type": "code",
   "execution_count": 36,
   "metadata": {},
   "outputs": [],
   "source": [
    "list1 = []\n",
    "for key, value in optimal_mentor_matches.items():\n",
    "    for k, v in value:\n",
    "        for i in k:\n",
    "            list2 = []\n",
    "            list2.append(v)\n",
    "            list2.append(key)\n",
    "            list2.append(k)\n",
    "        list1.append(list2)"
   ]
  },
  {
   "cell_type": "markdown",
   "metadata": {},
   "source": [
    "Now we can simply run the sort() function on the list."
   ]
  },
  {
   "cell_type": "code",
   "execution_count": 37,
   "metadata": {},
   "outputs": [
    {
     "data": {
      "text/plain": [
       "[[1.02, 'Amanda', 'Kevin'],\n",
       " [0.95, 'Francisco', 'Rachel'],\n",
       " [0.85, 'Amanda', 'William'],\n",
       " [0.77, 'Francisco', 'Emily'],\n",
       " [0.74, 'Megan', 'Emily'],\n",
       " [0.73, 'Megan', 'Rachel'],\n",
       " [0.67, 'Jose', 'Rachel'],\n",
       " [0.63, 'Amanda', 'Rachel'],\n",
       " [0.63, 'Megan', 'William'],\n",
       " [0.62, 'Francisco', 'Monica'],\n",
       " [0.57, 'Jose', 'Chris'],\n",
       " [0.55, 'Francisco', 'Kevin'],\n",
       " [0.55, 'Megan', 'Kevin'],\n",
       " [0.53, 'Carla', 'Rachel'],\n",
       " [0.49, 'Francisco', 'Chris'],\n",
       " [0.49, 'Phil', 'Monica'],\n",
       " [0.49, 'Carla', 'William'],\n",
       " [0.47, 'Jose', 'William'],\n",
       " [0.47, 'Carla', 'Kevin'],\n",
       " [0.46, 'Jose', 'Emily'],\n",
       " [0.45, 'Amanda', 'Monica'],\n",
       " [0.45, 'Phil', 'Kevin'],\n",
       " [0.45, 'Phil', 'William'],\n",
       " [0.45, 'Carla', 'Monica'],\n",
       " [0.4, 'Phil', 'Emily'],\n",
       " [0.4, 'Carla', 'Emily'],\n",
       " [0.37, 'Phil', 'Rachel'],\n",
       " [0.37, 'Carla', 'Chris'],\n",
       " [0.35, 'Megan', 'Chris'],\n",
       " [0.32, 'Phil', 'Chris'],\n",
       " [0.28, 'Jose', 'Kevin'],\n",
       " [0.28, 'Jose', 'Monica'],\n",
       " [0.28, 'Megan', 'Monica'],\n",
       " [0.24, 'Amanda', 'Emily'],\n",
       " [0.0, 'Amanda', 'Chris'],\n",
       " [0.0, 'Francisco', 'William']]"
      ]
     },
     "execution_count": 37,
     "metadata": {},
     "output_type": "execute_result"
    }
   ],
   "source": [
    "list1.sort(key = lambda i: i[0], reverse=True)\n",
    "list1"
   ]
  },
  {
   "cell_type": "markdown",
   "metadata": {},
   "source": [
    "Now we write a function that takes our master list in as the only argument, creates three empty lists, and appends the top match to the list that is returned, and adds the names of the mentors and mentees that have been matched to the other empty lists. This assures us that once a participant that has been matched they cannot be matched with anyone else, and everyone gets matched according to their best available match. "
   ]
  },
  {
   "cell_type": "code",
   "execution_count": 65,
   "metadata": {},
   "outputs": [],
   "source": [
    "def stableMatch(list):\n",
    "    mr_matched = []\n",
    "    me_matched = []\n",
    "    final_match = []\n",
    "    for i in list:\n",
    "        if i[1] not in mr_matched and i[2] not in me_matched:\n",
    "            print(i[1], 'will be mentoring '+i[2]+', their compatibility score was',i[0])\n",
    "            mr_matched.append(i[1])\n",
    "            me_matched.append(i[2])"
   ]
  },
  {
   "cell_type": "markdown",
   "metadata": {},
   "source": [
    "Now we pass our master list to get our best matches."
   ]
  },
  {
   "cell_type": "code",
   "execution_count": 66,
   "metadata": {},
   "outputs": [
    {
     "name": "stdout",
     "output_type": "stream",
     "text": [
      "Amanda will be mentoring Kevin, their compatibility score was 1.02\n",
      "Francisco will be mentoring Rachel, their compatibility score was 0.95\n",
      "Megan will be mentoring Emily, their compatibility score was 0.74\n",
      "Jose will be mentoring Chris, their compatibility score was 0.57\n",
      "Phil will be mentoring Monica, their compatibility score was 0.49\n",
      "Carla will be mentoring William, their compatibility score was 0.49\n"
     ]
    }
   ],
   "source": [
    "stableMatch(list1)"
   ]
  },
  {
   "cell_type": "markdown",
   "metadata": {},
   "source": [
    "The tutorial ended here, but further analysis is possible. "
   ]
  }
 ],
 "metadata": {
  "kernelspec": {
   "display_name": "Python 3",
   "language": "python",
   "name": "python3"
  },
  "language_info": {
   "codemirror_mode": {
    "name": "ipython",
    "version": 3
   },
   "file_extension": ".py",
   "mimetype": "text/x-python",
   "name": "python",
   "nbconvert_exporter": "python",
   "pygments_lexer": "ipython3",
   "version": "3.6.12"
  }
 },
 "nbformat": 4,
 "nbformat_minor": 2
}
