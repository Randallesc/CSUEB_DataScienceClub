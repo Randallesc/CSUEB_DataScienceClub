{
 "cells": [
  {
   "cell_type": "markdown",
   "metadata": {},
   "source": [
    "# CSUEB Data Science Club Fall 2020 Project"
   ]
  },
  {
   "cell_type": "markdown",
   "metadata": {},
   "source": [
    "This project is for undergraduate and graduate students who are looking for an extracurricular project to sharpen their data science skills. The problem is based off a real mentorship program being offered by the San Francisco Professional Chapter of ALPFA in partnership with the CSUEB Student Chapter of ALPFA. The program was launched over the summer 2020 and will have recurring periodic enrollment moving forward, this project seeks to automate the matching of mentors/mentees, a process which is being done manually. The tasks will be broken up into three sections, beginning with the creation of our mock survey results below. The first task: Mentee Ranking, will be solved at our club's second live event later this semester, and the last task: Stable Matching, will be solved at our club's final event at the end of the semester. Direct any questions to info.csueb.dsc@gmail.com. Happy problem solving!"
   ]
  },
  {
   "cell_type": "markdown",
   "metadata": {},
   "source": [
    "#### We begin by importing some basic packages"
   ]
  },
  {
   "cell_type": "code",
   "execution_count": 1,
   "metadata": {},
   "outputs": [],
   "source": [
    "import random\n",
    "import pandas as pd"
   ]
  },
  {
   "cell_type": "markdown",
   "metadata": {},
   "source": [
    "This is a function to generate a list of 10 random numbers from 0 to a specified number \"num\":"
   ]
  },
  {
   "cell_type": "code",
   "execution_count": 2,
   "metadata": {},
   "outputs": [],
   "source": [
    "def surveyCol(num):\n",
    "    return [random.randint(0, num) for _ in range(10)]"
   ]
  },
  {
   "cell_type": "markdown",
   "metadata": {},
   "source": [
    "This is script to create objects from a class called \"Participants,\" these objects are structured like a dictionary with key-value pairs but will need to be converted to a \"dict\" type for us to perform dictionary operations on them."
   ]
  },
  {
   "cell_type": "code",
   "execution_count": 3,
   "metadata": {},
   "outputs": [],
   "source": [
    "class Participant:\n",
    "    def __init__(self, name):\n",
    "        self.name = name\n",
    "        self.primary = surveyCol(5)\n",
    "        self.ideal_match = surveyCol(5)\n",
    "        self.level_of_importance = surveyCol(2)"
   ]
  },
  {
   "cell_type": "markdown",
   "metadata": {},
   "source": [
    "Here is our lists of participating mentors and mentees."
   ]
  },
  {
   "cell_type": "code",
   "execution_count": 4,
   "metadata": {},
   "outputs": [],
   "source": [
    "mentor_names = ['Jose', 'Amanda', 'Francisco', 'Megan', 'Phil', 'Carla']\n",
    "mentee_names = ['Chris', 'Kevin', 'Rachel', 'Monica', 'Emily', 'William']"
   ]
  },
  {
   "cell_type": "markdown",
   "metadata": {},
   "source": [
    "These are two functions, the first takes dictionary structured objects converts them to a dictionary format, and will be called in our second function. \"surveyGroup\" takes a list of strings as an argument and creates a \"Participant\" object from each string, and calls the \"convert\" function on each object. A new list of dictionaries is returned."
   ]
  },
  {
   "cell_type": "code",
   "execution_count": 5,
   "metadata": {},
   "outputs": [],
   "source": [
    "def convert(dict):\n",
    "    dict = dict.__dict__\n",
    "    return dict\n",
    "\n",
    "def surveyGroup(list):\n",
    "    user_list = []\n",
    "    for i in range(len(list)):\n",
    "        user_list.append(convert(Participant(list[i])))\n",
    "    return user_list"
   ]
  },
  {
   "cell_type": "markdown",
   "metadata": {},
   "source": [
    "Here we pass our lists of participating mentor and mentee names to the above functions and get our new lists with each name, primary survey answers, ideal matches survey answers and a level of importance survey responses as keys with their respective values."
   ]
  },
  {
   "cell_type": "code",
   "execution_count": 6,
   "metadata": {},
   "outputs": [],
   "source": [
    "mentors = surveyGroup(mentor_names)\n",
    "mentees = surveyGroup(mentee_names)"
   ]
  },
  {
   "cell_type": "markdown",
   "metadata": {},
   "source": [
    "Here we print out our newly created lists"
   ]
  },
  {
   "cell_type": "code",
   "execution_count": 7,
   "metadata": {},
   "outputs": [
    {
     "name": "stdout",
     "output_type": "stream",
     "text": [
      "{'name': 'Jose', 'primary': [2, 1, 3, 0, 1, 3, 5, 5, 4, 3], 'ideal_match': [1, 1, 3, 2, 2, 0, 5, 0, 5, 0], 'level_of_importance': [0, 1, 2, 2, 1, 2, 2, 0, 1, 2]}\n",
      "{'name': 'Amanda', 'primary': [1, 1, 2, 5, 5, 2, 0, 4, 4, 3], 'ideal_match': [0, 0, 2, 5, 1, 1, 3, 5, 3, 3], 'level_of_importance': [1, 2, 2, 2, 2, 0, 2, 2, 1, 0]}\n",
      "{'name': 'Francisco', 'primary': [0, 0, 1, 5, 2, 2, 4, 0, 2, 2], 'ideal_match': [5, 4, 4, 0, 4, 1, 1, 3, 3, 3], 'level_of_importance': [2, 0, 1, 1, 0, 0, 2, 2, 0, 0]}\n",
      "{'name': 'Megan', 'primary': [5, 1, 0, 3, 2, 2, 1, 3, 1, 1], 'ideal_match': [5, 0, 2, 2, 2, 2, 0, 0, 0, 2], 'level_of_importance': [2, 0, 0, 1, 0, 1, 0, 1, 0, 1]}\n",
      "{'name': 'Phil', 'primary': [1, 0, 5, 0, 5, 4, 5, 2, 3, 0], 'ideal_match': [1, 3, 4, 4, 3, 4, 3, 2, 2, 3], 'level_of_importance': [2, 2, 2, 1, 2, 1, 2, 2, 2, 1]}\n",
      "{'name': 'Carla', 'primary': [4, 5, 2, 3, 5, 5, 2, 2, 3, 0], 'ideal_match': [1, 2, 0, 1, 4, 3, 3, 3, 5, 2], 'level_of_importance': [1, 1, 2, 0, 2, 0, 0, 1, 1, 0]}\n"
     ]
    }
   ],
   "source": [
    "for mentor in mentors:\n",
    "    print(mentor)"
   ]
  },
  {
   "cell_type": "code",
   "execution_count": 8,
   "metadata": {},
   "outputs": [
    {
     "name": "stdout",
     "output_type": "stream",
     "text": [
      "{'name': 'Chris', 'primary': [5, 4, 4, 3, 4, 4, 1, 2, 1, 4], 'ideal_match': [3, 3, 4, 2, 2, 3, 0, 3, 5, 5], 'level_of_importance': [0, 1, 2, 1, 0, 2, 1, 2, 2, 2]}\n",
      "{'name': 'Kevin', 'primary': [5, 1, 3, 0, 4, 1, 2, 5, 3, 0], 'ideal_match': [4, 0, 5, 5, 2, 5, 2, 4, 0, 1], 'level_of_importance': [0, 2, 2, 1, 0, 2, 0, 2, 1, 1]}\n",
      "{'name': 'Rachel', 'primary': [5, 2, 0, 5, 1, 1, 2, 1, 3, 5], 'ideal_match': [2, 2, 1, 5, 1, 4, 0, 0, 3, 2], 'level_of_importance': [2, 1, 0, 1, 0, 2, 2, 0, 1, 0]}\n",
      "{'name': 'Monica', 'primary': [2, 0, 1, 3, 2, 2, 4, 2, 0, 5], 'ideal_match': [4, 4, 3, 1, 1, 4, 1, 4, 3, 3], 'level_of_importance': [0, 2, 1, 1, 2, 2, 0, 2, 0, 2]}\n",
      "{'name': 'Emily', 'primary': [0, 3, 5, 1, 5, 4, 4, 0, 2, 0], 'ideal_match': [0, 0, 3, 5, 2, 2, 4, 1, 1, 0], 'level_of_importance': [1, 2, 1, 2, 1, 0, 0, 0, 0, 0]}\n",
      "{'name': 'William', 'primary': [0, 1, 1, 1, 2, 1, 0, 0, 4, 4], 'ideal_match': [2, 1, 1, 4, 5, 4, 3, 0, 1, 5], 'level_of_importance': [1, 2, 1, 0, 0, 2, 0, 1, 1, 2]}\n"
     ]
    }
   ],
   "source": [
    "for mentee in mentees:\n",
    "    print(mentee)"
   ]
  },
  {
   "cell_type": "markdown",
   "metadata": {},
   "source": [
    "#### In this step we want to convert our list items(dictionaries), to data frames to make them easier to work with in performing analysis. This is a problem because the first key is not like the others in that it is a string and not a list of 10 integers. We remove it with the pop() function."
   ]
  },
  {
   "cell_type": "code",
   "execution_count": 9,
   "metadata": {},
   "outputs": [],
   "source": [
    "for mentor in mentors:\n",
    "    mentor.pop('name')"
   ]
  },
  {
   "cell_type": "markdown",
   "metadata": {},
   "source": [
    "Now we must assign the corresponding survey response key-value pairs to a variable with the participating mentor's name:"
   ]
  },
  {
   "cell_type": "code",
   "execution_count": 10,
   "metadata": {},
   "outputs": [],
   "source": [
    "Jose = pd.DataFrame.from_dict(mentors[0])\n",
    "Amanda = pd.DataFrame.from_dict(mentors[1])\n",
    "Francisco = pd.DataFrame.from_dict(mentors[2])\n",
    "Megan = pd.DataFrame.from_dict(mentors[3])\n",
    "Phil = pd.DataFrame.from_dict(mentors[4])\n",
    "Carla = pd.DataFrame.from_dict(mentors[5])"
   ]
  },
  {
   "cell_type": "markdown",
   "metadata": {},
   "source": [
    "We repeat this process for the mentees:"
   ]
  },
  {
   "cell_type": "code",
   "execution_count": 11,
   "metadata": {},
   "outputs": [],
   "source": [
    "for mentee in mentees:\n",
    "    mentee.pop('name')"
   ]
  },
  {
   "cell_type": "code",
   "execution_count": 12,
   "metadata": {},
   "outputs": [],
   "source": [
    "Chris = pd.DataFrame.from_dict(mentees[0])\n",
    "Kevin = pd.DataFrame.from_dict(mentees[1])\n",
    "Monica = pd.DataFrame.from_dict(mentees[2])\n",
    "Rachel = pd.DataFrame.from_dict(mentees[3])\n",
    "Emily = pd.DataFrame.from_dict(mentees[4])\n",
    "William = pd.DataFrame.from_dict(mentees[5])"
   ]
  },
  {
   "cell_type": "markdown",
   "metadata": {},
   "source": [
    "Finally we create a list of data frames to make parsing through them for analysis more efficient:"
   ]
  },
  {
   "cell_type": "code",
   "execution_count": 13,
   "metadata": {},
   "outputs": [],
   "source": [
    "df_mentors = [Jose, Amanda, Francisco, Megan, Phil, Carla]\n",
    "df_mentees = [Chris, Kevin, Monica, Rachel, Emily, William]"
   ]
  },
  {
   "cell_type": "markdown",
   "metadata": {},
   "source": [
    "### Task 1: Create a compatibility ranking system for mentors & mentees and return a dictionary with the name of each mentor as the value and a sorted list of mentees matched from most compatible to least compatible. "
   ]
  },
  {
   "cell_type": "code",
   "execution_count": null,
   "metadata": {},
   "outputs": [],
   "source": [
    "#Your code here\n",
    "#Tip: Use the geometric mean of the mentor/mentee survey scores to determine compatibility score \n",
    "# used for ranking potential matches."
   ]
  },
  {
   "cell_type": "code",
   "execution_count": 14,
   "metadata": {
    "scrolled": true
   },
   "outputs": [
    {
     "name": "stdout",
     "output_type": "stream",
     "text": [
      "0    2\n",
      "1    1\n",
      "2    3\n",
      "3    0\n",
      "4    1\n",
      "5    3\n",
      "6    5\n",
      "7    5\n",
      "8    4\n",
      "9    3\n",
      "Name: primary, dtype: int64\n"
     ]
    }
   ],
   "source": [
    "print(Jose['primary'])"
   ]
  },
  {
   "cell_type": "code",
   "execution_count": 15,
   "metadata": {},
   "outputs": [
    {
     "name": "stdout",
     "output_type": "stream",
     "text": [
      "0    3\n",
      "1    3\n",
      "2    4\n",
      "3    2\n",
      "4    2\n",
      "5    3\n",
      "6    0\n",
      "7    3\n",
      "8    5\n",
      "9    5\n",
      "Name: ideal_match, dtype: int64\n"
     ]
    }
   ],
   "source": [
    "print(Chris['ideal_match'])"
   ]
  },
  {
   "cell_type": "markdown",
   "metadata": {},
   "source": [
    "This function takes two dataframes as arguements, the first of which is whose 'ideal_match' we will match against the second's 'primary' column. We then return a new list of values according to the matches or near matches from column value comparison: 1 if the values match exactly and 0.5 if they are off by 1."
   ]
  },
  {
   "cell_type": "code",
   "execution_count": 16,
   "metadata": {},
   "outputs": [],
   "source": [
    "def listComp(df1, df2):\n",
    "    n = 2\n",
    "    list_match = []\n",
    "    l_of_imp = []\n",
    "    list_of_diffs = df1.ideal_match - df2.primary\n",
    "    for i in list_of_diffs:\n",
    "        if abs(i) == 0:\n",
    "            list_match.append(1)\n",
    "        elif abs(i) == 1:\n",
    "            list_match.append(0.5)\n",
    "        else:\n",
    "            list_match.append(0)\n",
    "            \n",
    "    for j in df1.level_of_importance:\n",
    "        if j == 2:\n",
    "            l_of_imp.append(n**2)\n",
    "        elif j == 1:\n",
    "            l_of_imp.append(n)\n",
    "        else:\n",
    "            l_of_imp.append(0)\n",
    "    return [list_match[k] * l_of_imp[k] for k in range(len(list_match))]\n",
    "    "
   ]
  },
  {
   "cell_type": "code",
   "execution_count": 17,
   "metadata": {},
   "outputs": [
    {
     "data": {
      "text/plain": [
       "[0, 0, 2.0, 2.0, 0, 0, 0, 0, 0, 0]"
      ]
     },
     "execution_count": 17,
     "metadata": {},
     "output_type": "execute_result"
    }
   ],
   "source": [
    "# Testing the function\n",
    "listComp(Jose, Chris)"
   ]
  },
  {
   "cell_type": "code",
   "execution_count": 18,
   "metadata": {},
   "outputs": [
    {
     "data": {
      "text/plain": [
       "[0.0, 0, 2.0, 0, 0.0, 4, 0, 0, 2.0, 0]"
      ]
     },
     "execution_count": 18,
     "metadata": {},
     "output_type": "execute_result"
    }
   ],
   "source": [
    "listComp(Chris, Jose)"
   ]
  },
  {
   "cell_type": "markdown",
   "metadata": {},
   "source": [
    "This function takes two lists as arguements and returns their geometric mean, or the squared root of the product of the two lists."
   ]
  },
  {
   "cell_type": "code",
   "execution_count": 19,
   "metadata": {},
   "outputs": [],
   "source": [
    "def geoMean(list1, list2):\n",
    "    match_score1 = sum(list1)/len(list1)\n",
    "    match_score2 = sum(list2)/len(list2)\n",
    "    return (match_score1*match_score2)**0.5"
   ]
  },
  {
   "cell_type": "code",
   "execution_count": 20,
   "metadata": {},
   "outputs": [
    {
     "data": {
      "text/plain": [
       "0.5656854249492381"
      ]
     },
     "execution_count": 20,
     "metadata": {},
     "output_type": "execute_result"
    }
   ],
   "source": [
    "# Here we test the fucntion\n",
    "geoMean(listComp(Jose, Chris), listComp(Chris, Jose))"
   ]
  },
  {
   "cell_type": "markdown",
   "metadata": {},
   "source": [
    "This function takes a dataframe as an arguement and returns the name as a string."
   ]
  },
  {
   "cell_type": "code",
   "execution_count": 21,
   "metadata": {},
   "outputs": [],
   "source": [
    "def get_df_name(df):\n",
    "    name = [x for x in globals() if globals()[x] is df][0]\n",
    "    return name"
   ]
  },
  {
   "cell_type": "markdown",
   "metadata": {},
   "source": [
    "This function takes two dataframes as arguements combining the previous functions we have created and returns a dictionary with the first dataframe's matches sorted in descending order."
   ]
  },
  {
   "cell_type": "code",
   "execution_count": 22,
   "metadata": {},
   "outputs": [],
   "source": [
    "def matching(df_list1, df_list2):\n",
    "    dict1 = {}\n",
    "    dict2 = {}\n",
    "    for i in df_list1:\n",
    "        for j in df_list2:\n",
    "            dict2[get_df_name(j)] = round(geoMean(listComp(i, j), listComp(j, i)), 2)\n",
    "        dict1[get_df_name(i)] = sorted(dict2.items(), key=lambda x: x[1], reverse=True)\n",
    "    return dict1"
   ]
  },
  {
   "cell_type": "markdown",
   "metadata": {},
   "source": [
    "Here we test the function for the list of mentors matched to mentees and vice versa."
   ]
  },
  {
   "cell_type": "code",
   "execution_count": 23,
   "metadata": {},
   "outputs": [],
   "source": [
    "optimal_mentor_matches = matching(df_mentors, df_mentees)"
   ]
  },
  {
   "cell_type": "code",
   "execution_count": 24,
   "metadata": {},
   "outputs": [],
   "source": [
    "optimal_mentee_matches = matching(df_mentees, df_mentors)"
   ]
  },
  {
   "cell_type": "code",
   "execution_count": 25,
   "metadata": {},
   "outputs": [
    {
     "data": {
      "text/plain": [
       "{'Jose': [('Rachel', 1.02),\n",
       "  ('William', 0.85),\n",
       "  ('Kevin', 0.69),\n",
       "  ('Emily', 0.63),\n",
       "  ('Chris', 0.57),\n",
       "  ('Monica', 0.57)],\n",
       " 'Amanda': [('Monica', 1.1),\n",
       "  ('Kevin', 0.98),\n",
       "  ('Rachel', 0.95),\n",
       "  ('William', 0.73),\n",
       "  ('Emily', 0.63),\n",
       "  ('Chris', 0.0)],\n",
       " 'Francisco': [('Kevin', 0.79),\n",
       "  ('Chris', 0.49),\n",
       "  ('Emily', 0.49),\n",
       "  ('William', 0.46),\n",
       "  ('Monica', 0.42),\n",
       "  ('Rachel', 0.28)],\n",
       " 'Megan': [('Chris', 0.63),\n",
       "  ('Kevin', 0.59),\n",
       "  ('William', 0.53),\n",
       "  ('Monica', 0.42),\n",
       "  ('Rachel', 0.35),\n",
       "  ('Emily', 0.35)],\n",
       " 'Phil': [('Chris', 1.04),\n",
       "  ('Kevin', 0.94),\n",
       "  ('Emily', 0.89),\n",
       "  ('Monica', 0.85),\n",
       "  ('Rachel', 0.74),\n",
       "  ('William', 0.59)],\n",
       " 'Carla': [('Kevin', 0.5),\n",
       "  ('Monica', 0.49),\n",
       "  ('Rachel', 0.45),\n",
       "  ('Chris', 0.39),\n",
       "  ('William', 0.39),\n",
       "  ('Emily', 0.2)]}"
      ]
     },
     "execution_count": 25,
     "metadata": {},
     "output_type": "execute_result"
    }
   ],
   "source": [
    "optimal_mentor_matches"
   ]
  },
  {
   "cell_type": "code",
   "execution_count": 26,
   "metadata": {},
   "outputs": [
    {
     "data": {
      "text/plain": [
       "{'Chris': [('Phil', 1.04),\n",
       "  ('Megan', 0.63),\n",
       "  ('Jose', 0.57),\n",
       "  ('Francisco', 0.49),\n",
       "  ('Carla', 0.39),\n",
       "  ('Amanda', 0.0)],\n",
       " 'Kevin': [('Amanda', 0.98),\n",
       "  ('Phil', 0.94),\n",
       "  ('Francisco', 0.79),\n",
       "  ('Jose', 0.69),\n",
       "  ('Megan', 0.59),\n",
       "  ('Carla', 0.5)],\n",
       " 'Monica': [('Amanda', 1.1),\n",
       "  ('Phil', 0.85),\n",
       "  ('Jose', 0.57),\n",
       "  ('Carla', 0.49),\n",
       "  ('Francisco', 0.42),\n",
       "  ('Megan', 0.42)],\n",
       " 'Rachel': [('Jose', 1.02),\n",
       "  ('Amanda', 0.95),\n",
       "  ('Phil', 0.74),\n",
       "  ('Carla', 0.45),\n",
       "  ('Megan', 0.35),\n",
       "  ('Francisco', 0.28)],\n",
       " 'Emily': [('Phil', 0.89),\n",
       "  ('Jose', 0.63),\n",
       "  ('Amanda', 0.63),\n",
       "  ('Francisco', 0.49),\n",
       "  ('Megan', 0.35),\n",
       "  ('Carla', 0.2)],\n",
       " 'William': [('Jose', 0.85),\n",
       "  ('Amanda', 0.73),\n",
       "  ('Phil', 0.59),\n",
       "  ('Megan', 0.53),\n",
       "  ('Francisco', 0.46),\n",
       "  ('Carla', 0.39)]}"
      ]
     },
     "execution_count": 26,
     "metadata": {},
     "output_type": "execute_result"
    }
   ],
   "source": [
    "optimal_mentee_matches"
   ]
  },
  {
   "cell_type": "markdown",
   "metadata": {},
   "source": [
    "### Task 2: Based on the sorted list of potential matches pair every mentor with their best available mentee match."
   ]
  },
  {
   "cell_type": "code",
   "execution_count": null,
   "metadata": {},
   "outputs": [],
   "source": [
    "#Your code here\n",
    "#Tip: Use the \"Stable Matching\" Algorithm."
   ]
  }
 ],
 "metadata": {
  "kernelspec": {
   "display_name": "Python 3",
   "language": "python",
   "name": "python3"
  },
  "language_info": {
   "codemirror_mode": {
    "name": "ipython",
    "version": 3
   },
   "file_extension": ".py",
   "mimetype": "text/x-python",
   "name": "python",
   "nbconvert_exporter": "python",
   "pygments_lexer": "ipython3",
   "version": "3.7.4"
  }
 },
 "nbformat": 4,
 "nbformat_minor": 2
}
