{
 "cells": [
  {
   "cell_type": "markdown",
   "metadata": {},
   "source": [
    "# CSUEB Data Science Club Fall 2020 Project"
   ]
  },
  {
   "cell_type": "markdown",
   "metadata": {},
   "source": [
    "This project is for undergraduate and graduate students who are looking for an extracurricular project to sharpen their data science skills. The problem is based off a real mentorship program being offered by the San Francisco Professional Chapter of ALPFA in partnership with the CSUEB Student Chapter of ALPFA. The program was launched over the summer 2020 and will have recurring periodic enrollment moving forward, this project seeks to automate the matching of mentors/mentees, a process which is being done manually. The tasks will be broken up into three sections, beginning with the creation of our mock survey results below. The first task: Mentee Ranking, will be solved at our club's second live event later this semester, and the last task: Stable Matching, will be solved at our club's final event at the end of the semester. Direct any questions to info.csueb.dsc@gmail.com. Happy problem solving!"
   ]
  },
  {
   "cell_type": "markdown",
   "metadata": {},
   "source": [
    "#### We begin by importing some basic packages"
   ]
  },
  {
   "cell_type": "code",
   "execution_count": 1,
   "metadata": {},
   "outputs": [],
   "source": [
    "import random\n",
    "import pandas as pd"
   ]
  },
  {
   "cell_type": "markdown",
   "metadata": {},
   "source": [
    "This is a function to generate a list of 10 random numbers from 0 to a specified number \"num\":"
   ]
  },
  {
   "cell_type": "code",
   "execution_count": 2,
   "metadata": {},
   "outputs": [],
   "source": [
    "def surveyCol(num):\n",
    "    return [random.randint(0, num) for _ in range(10)]"
   ]
  },
  {
   "cell_type": "markdown",
   "metadata": {},
   "source": [
    "This is script to create objects from a class called \"Participants,\" these objects are structured like a dictionary with key-value pairs but will need to be converted to a \"dict\" type for us to perform dictionary operations on them."
   ]
  },
  {
   "cell_type": "code",
   "execution_count": 3,
   "metadata": {},
   "outputs": [],
   "source": [
    "class Participant:\n",
    "    def __init__(self, name):\n",
    "        self.name = name\n",
    "        self.primary = surveyCol(5)\n",
    "        self.ideal_match = surveyCol(5)\n",
    "        self.level_of_importance = surveyCol(3)"
   ]
  },
  {
   "cell_type": "markdown",
   "metadata": {},
   "source": [
    "Here is our lists of participating mentors and mentees."
   ]
  },
  {
   "cell_type": "code",
   "execution_count": 4,
   "metadata": {},
   "outputs": [],
   "source": [
    "mentor_names = ['Jose', 'Amanda', 'Francisco', 'Megan', 'Phil', 'Carla']\n",
    "mentee_names = ['Chris', 'Kevin', 'Rachel', 'Monica', 'Emily', 'William']"
   ]
  },
  {
   "cell_type": "markdown",
   "metadata": {},
   "source": [
    "These are two functions, the first takes dictionary structured objects converts them to a dictionary format, and will be called in our second function. \"surveyGroup\" takes a list of strings as an argument and creates a \"Participant\" object from each string, and calls the \"convert\" function on each object. A new list of dictionaries is returned."
   ]
  },
  {
   "cell_type": "code",
   "execution_count": 5,
   "metadata": {},
   "outputs": [],
   "source": [
    "def convert(dict):\n",
    "    dict = dict.__dict__\n",
    "    return dict\n",
    "\n",
    "def surveyGroup(list):\n",
    "    user_list = []\n",
    "    for i in range(len(list)):\n",
    "        user_list.append(convert(Participant(list[i])))\n",
    "    return user_list"
   ]
  },
  {
   "cell_type": "markdown",
   "metadata": {},
   "source": [
    "Here we pass our lists of participating mentor and mentee names to the above functions and get our new lists with each name, primary survey answers, ideal matches survey answers and a level of importance survey responses as keys with their respective values."
   ]
  },
  {
   "cell_type": "code",
   "execution_count": 6,
   "metadata": {},
   "outputs": [],
   "source": [
    "mentors = surveyGroup(mentor_names)\n",
    "mentees = surveyGroup(mentee_names)"
   ]
  },
  {
   "cell_type": "markdown",
   "metadata": {},
   "source": [
    "Here we print out our newly created lists"
   ]
  },
  {
   "cell_type": "code",
   "execution_count": 7,
   "metadata": {},
   "outputs": [
    {
     "name": "stdout",
     "output_type": "stream",
     "text": [
      "{'name': 'Jose', 'primary': [1, 0, 3, 3, 5, 5, 5, 0, 0, 5], 'ideal_match': [2, 0, 3, 1, 5, 1, 0, 4, 0, 0], 'level_of_importance': [3, 0, 0, 2, 3, 2, 1, 1, 2, 1]}\n",
      "{'name': 'Amanda', 'primary': [2, 1, 4, 0, 1, 5, 3, 2, 0, 1], 'ideal_match': [2, 4, 4, 1, 5, 2, 2, 2, 0, 5], 'level_of_importance': [3, 1, 3, 0, 2, 0, 1, 1, 0, 1]}\n",
      "{'name': 'Francisco', 'primary': [2, 1, 3, 1, 3, 5, 4, 5, 3, 4], 'ideal_match': [5, 5, 3, 0, 0, 4, 2, 4, 3, 5], 'level_of_importance': [2, 3, 0, 0, 2, 3, 1, 2, 2, 2]}\n",
      "{'name': 'Megan', 'primary': [3, 3, 5, 3, 4, 4, 1, 2, 0, 4], 'ideal_match': [2, 5, 0, 2, 1, 4, 0, 1, 4, 4], 'level_of_importance': [3, 2, 3, 2, 2, 3, 1, 0, 3, 0]}\n",
      "{'name': 'Phil', 'primary': [4, 3, 4, 4, 5, 3, 4, 3, 3, 5], 'ideal_match': [5, 2, 5, 3, 4, 5, 1, 5, 3, 4], 'level_of_importance': [3, 3, 2, 1, 1, 2, 0, 3, 2, 2]}\n",
      "{'name': 'Carla', 'primary': [0, 4, 5, 3, 4, 1, 4, 0, 0, 0], 'ideal_match': [0, 5, 2, 2, 0, 0, 5, 3, 1, 4], 'level_of_importance': [2, 3, 1, 3, 1, 3, 1, 1, 1, 3]}\n"
     ]
    }
   ],
   "source": [
    "for mentor in mentors:\n",
    "    print(mentor)"
   ]
  },
  {
   "cell_type": "code",
   "execution_count": 8,
   "metadata": {},
   "outputs": [
    {
     "name": "stdout",
     "output_type": "stream",
     "text": [
      "{'name': 'Chris', 'primary': [2, 0, 0, 2, 0, 1, 1, 2, 3, 4], 'ideal_match': [1, 5, 4, 2, 2, 3, 1, 4, 3, 0], 'level_of_importance': [2, 3, 0, 2, 0, 0, 3, 1, 1, 3]}\n",
      "{'name': 'Kevin', 'primary': [4, 5, 3, 5, 3, 1, 2, 5, 4, 2], 'ideal_match': [4, 5, 3, 3, 0, 0, 4, 2, 3, 5], 'level_of_importance': [2, 1, 3, 1, 2, 3, 3, 2, 1, 1]}\n",
      "{'name': 'Rachel', 'primary': [1, 5, 5, 1, 0, 5, 3, 3, 0, 0], 'ideal_match': [5, 0, 0, 0, 1, 4, 3, 3, 4, 3], 'level_of_importance': [3, 0, 2, 1, 1, 3, 2, 3, 1, 1]}\n",
      "{'name': 'Monica', 'primary': [1, 4, 2, 3, 5, 2, 3, 1, 3, 4], 'ideal_match': [5, 0, 2, 3, 5, 3, 0, 5, 3, 2], 'level_of_importance': [1, 1, 0, 2, 1, 1, 3, 0, 1, 2]}\n",
      "{'name': 'Emily', 'primary': [2, 4, 5, 0, 4, 3, 3, 3, 4, 4], 'ideal_match': [2, 5, 0, 2, 4, 5, 5, 5, 3, 5], 'level_of_importance': [3, 0, 2, 2, 0, 3, 2, 2, 0, 3]}\n",
      "{'name': 'William', 'primary': [5, 0, 3, 5, 0, 3, 4, 3, 5, 0], 'ideal_match': [1, 3, 3, 5, 1, 1, 3, 1, 2, 5], 'level_of_importance': [1, 0, 3, 3, 0, 2, 3, 2, 2, 1]}\n"
     ]
    }
   ],
   "source": [
    "for mentee in mentees:\n",
    "    print(mentee)"
   ]
  },
  {
   "cell_type": "markdown",
   "metadata": {},
   "source": [
    "#### In this step we want to convert our list items(dictionaries), to data frames to make them easier to work with in performing analysis. This is a problem because the first key is not like the others in that it is a string and not a list of 10 integers. We remove it with the pop() function."
   ]
  },
  {
   "cell_type": "code",
   "execution_count": 9,
   "metadata": {},
   "outputs": [],
   "source": [
    "for mentor in mentors:\n",
    "    mentor.pop('name')"
   ]
  },
  {
   "cell_type": "markdown",
   "metadata": {},
   "source": [
    "Now we must assign the corresponding survey response key-value pairs to a variable with the participating mentor's name:"
   ]
  },
  {
   "cell_type": "code",
   "execution_count": 10,
   "metadata": {},
   "outputs": [],
   "source": [
    "Jose = pd.DataFrame.from_dict(mentors[0])\n",
    "Amanda = pd.DataFrame.from_dict(mentors[1])\n",
    "Francisco = pd.DataFrame.from_dict(mentors[2])\n",
    "Megan = pd.DataFrame.from_dict(mentors[3])\n",
    "Phil = pd.DataFrame.from_dict(mentors[4])\n",
    "Carla = pd.DataFrame.from_dict(mentors[5])"
   ]
  },
  {
   "cell_type": "markdown",
   "metadata": {},
   "source": [
    "We repeat this process for the mentees:"
   ]
  },
  {
   "cell_type": "code",
   "execution_count": 11,
   "metadata": {},
   "outputs": [],
   "source": [
    "for mentee in mentees:\n",
    "    mentee.pop('name')"
   ]
  },
  {
   "cell_type": "code",
   "execution_count": 12,
   "metadata": {},
   "outputs": [],
   "source": [
    "Chris = pd.DataFrame.from_dict(mentees[0])\n",
    "Kevin = pd.DataFrame.from_dict(mentees[1])\n",
    "Monica = pd.DataFrame.from_dict(mentees[2])\n",
    "Rachel = pd.DataFrame.from_dict(mentees[3])\n",
    "Emily = pd.DataFrame.from_dict(mentees[4])\n",
    "William = pd.DataFrame.from_dict(mentees[5])"
   ]
  },
  {
   "cell_type": "markdown",
   "metadata": {},
   "source": [
    "Finally we create a list of data frames to make parsing through them for analysis more efficient:"
   ]
  },
  {
   "cell_type": "code",
   "execution_count": 13,
   "metadata": {},
   "outputs": [],
   "source": [
    "df_mentors = [Jose, Amanda, Francisco, Megan, Phil, Carla]\n",
    "df_mentees = [Chris, Kevin, Monica, Rachel, Emily, William]"
   ]
  },
  {
   "cell_type": "markdown",
   "metadata": {},
   "source": [
    "### Task 1: Create a compatibility ranking system for mentors & mentees and return a dictionary with the name of each mentor as the value and a sorted list of mentees matched from most compatible to least compatible. "
   ]
  },
  {
   "cell_type": "code",
   "execution_count": null,
   "metadata": {},
   "outputs": [],
   "source": [
    "#Your code here\n",
    "#Tip: Use the geometric mean of the mentor/mentee survey scores to determine compatibility score \n",
    "# used for ranking potential matches."
   ]
  },
  {
   "cell_type": "markdown",
   "metadata": {},
   "source": [
    "### Task 2: Based on the sorted list of potential matches pair every mentor with their best available mentee match."
   ]
  },
  {
   "cell_type": "code",
   "execution_count": null,
   "metadata": {},
   "outputs": [],
   "source": [
    "#Your code here\n",
    "#Tip: Use the \"Stable Matching\" Algorithm."
   ]
  }
 ],
 "metadata": {
  "kernelspec": {
   "display_name": "Python 3",
   "language": "python",
   "name": "python3"
  },
  "language_info": {
   "codemirror_mode": {
    "name": "ipython",
    "version": 3
   },
   "file_extension": ".py",
   "mimetype": "text/x-python",
   "name": "python",
   "nbconvert_exporter": "python",
   "pygments_lexer": "ipython3",
   "version": "3.7.4"
  }
 },
 "nbformat": 4,
 "nbformat_minor": 2
}
