{
 "cells": [
  {
   "cell_type": "markdown",
   "metadata": {},
   "source": [
    "# CSUEB Data Science Club Fall 2020 Project"
   ]
  },
  {
   "cell_type": "markdown",
   "metadata": {},
   "source": [
    "This project is for undergraduate and graduate students who are looking for an extracurricular project to sharpen their data science skills. The problem is based off a real mentorship program being offered by the San Francisco Professional Chapter of ALPFA in partnership with the CSUEB Student Chapter of ALPFA. The program was launched over the summer 2020 and will have recurring periodic enrollment moving forward, this project seeks to automate the matching of mentors/mentees, a process which is being done manually. The tasks will be broken up into three sections, beginning with the creation of our mock survey results below. The first task: Mentee Ranking, will be solved at our club's second live event later this semester, and the last task: Stable Matching, will be solved at our club's final event at the end of the semester. Direct any questions to info.csueb.dsc@gmail.com. Happy problem solving!"
   ]
  },
  {
   "cell_type": "markdown",
   "metadata": {},
   "source": [
    "#### We begin by importing some basic packages"
   ]
  },
  {
   "cell_type": "code",
   "execution_count": 220,
   "metadata": {},
   "outputs": [],
   "source": [
    "import random\n",
    "import pandas as pd"
   ]
  },
  {
   "cell_type": "markdown",
   "metadata": {},
   "source": [
    "This is a function to generate a list of 10 random numbers from 0 to a specified number \"num\":"
   ]
  },
  {
   "cell_type": "code",
   "execution_count": 221,
   "metadata": {},
   "outputs": [],
   "source": [
    "def surveyCol(num):\n",
    "    return [random.randint(0, num) for _ in range(10)]"
   ]
  },
  {
   "cell_type": "markdown",
   "metadata": {},
   "source": [
    "This is script to create objects from a class called \"Participants,\" these objects are structured like a dictionary with key-value pairs but will need to be converted to a \"dict\" type for us to perform dictionary operations on them."
   ]
  },
  {
   "cell_type": "code",
   "execution_count": 222,
   "metadata": {},
   "outputs": [],
   "source": [
    "class Participant:\n",
    "    def __init__(self, name):\n",
    "        self.name = name\n",
    "        self.primary = surveyCol(5)\n",
    "        self.ideal_match = surveyCol(5)\n",
    "        self.level_of_importance = surveyCol(2)"
   ]
  },
  {
   "cell_type": "markdown",
   "metadata": {},
   "source": [
    "Here is our lists of participating mentors and mentees."
   ]
  },
  {
   "cell_type": "code",
   "execution_count": 223,
   "metadata": {},
   "outputs": [],
   "source": [
    "mentor_names = ['Jose', 'Amanda', 'Francisco', 'Megan', 'Phil', 'Carla']\n",
    "mentee_names = ['Chris', 'Kevin', 'Rachel', 'Monica', 'Emily', 'William']"
   ]
  },
  {
   "cell_type": "markdown",
   "metadata": {},
   "source": [
    "These are two functions, the first takes dictionary structured objects converts them to a dictionary format, and will be called in our second function. \"surveyGroup\" takes a list of strings as an argument and creates a \"Participant\" object from each string, and calls the \"convert\" function on each object. A new list of dictionaries is returned."
   ]
  },
  {
   "cell_type": "code",
   "execution_count": 224,
   "metadata": {},
   "outputs": [],
   "source": [
    "def convert(dict):\n",
    "    dict = dict.__dict__\n",
    "    return dict\n",
    "\n",
    "def surveyGroup(list):\n",
    "    user_list = []\n",
    "    for i in range(len(list)):\n",
    "        user_list.append(convert(Participant(list[i])))\n",
    "    return user_list"
   ]
  },
  {
   "cell_type": "markdown",
   "metadata": {},
   "source": [
    "Here we pass our lists of participating mentor and mentee names to the above functions and get our new lists with each name, primary survey answers, ideal matches survey answers and a level of importance survey responses as keys with their respective values."
   ]
  },
  {
   "cell_type": "code",
   "execution_count": 225,
   "metadata": {},
   "outputs": [],
   "source": [
    "mentors = surveyGroup(mentor_names)\n",
    "mentees = surveyGroup(mentee_names)"
   ]
  },
  {
   "cell_type": "markdown",
   "metadata": {},
   "source": [
    "Here we print out our newly created lists"
   ]
  },
  {
   "cell_type": "code",
   "execution_count": 226,
   "metadata": {},
   "outputs": [
    {
     "name": "stdout",
     "output_type": "stream",
     "text": [
      "{'name': 'Jose', 'primary': [3, 3, 1, 0, 4, 2, 1, 2, 5, 2], 'ideal_match': [4, 1, 1, 5, 5, 2, 4, 4, 2, 4], 'level_of_importance': [2, 0, 2, 1, 0, 1, 0, 2, 1, 1]}\n",
      "{'name': 'Amanda', 'primary': [3, 0, 5, 2, 1, 0, 2, 4, 4, 4], 'ideal_match': [1, 5, 2, 0, 1, 5, 3, 4, 4, 1], 'level_of_importance': [1, 2, 0, 1, 2, 2, 2, 0, 0, 0]}\n",
      "{'name': 'Francisco', 'primary': [5, 0, 2, 1, 2, 1, 1, 5, 0, 5], 'ideal_match': [1, 5, 1, 5, 0, 5, 4, 0, 1, 4], 'level_of_importance': [0, 1, 2, 0, 2, 0, 0, 1, 2, 0]}\n",
      "{'name': 'Megan', 'primary': [4, 3, 2, 5, 1, 5, 0, 3, 1, 0], 'ideal_match': [0, 0, 0, 0, 5, 2, 3, 5, 2, 2], 'level_of_importance': [1, 2, 2, 2, 0, 1, 0, 1, 0, 2]}\n",
      "{'name': 'Phil', 'primary': [1, 3, 2, 4, 0, 5, 1, 1, 5, 0], 'ideal_match': [3, 4, 1, 1, 5, 2, 3, 1, 5, 3], 'level_of_importance': [1, 2, 0, 0, 0, 0, 2, 0, 0, 2]}\n",
      "{'name': 'Carla', 'primary': [2, 2, 3, 3, 0, 5, 0, 5, 0, 4], 'ideal_match': [0, 4, 2, 4, 4, 5, 2, 3, 2, 3], 'level_of_importance': [1, 0, 2, 1, 0, 2, 2, 1, 1, 0]}\n"
     ]
    }
   ],
   "source": [
    "for mentor in mentors:\n",
    "    print(mentor)"
   ]
  },
  {
   "cell_type": "code",
   "execution_count": 227,
   "metadata": {},
   "outputs": [
    {
     "name": "stdout",
     "output_type": "stream",
     "text": [
      "{'name': 'Chris', 'primary': [5, 5, 0, 2, 2, 4, 2, 3, 0, 5], 'ideal_match': [4, 3, 0, 1, 5, 5, 3, 1, 0, 3], 'level_of_importance': [1, 2, 1, 1, 2, 1, 2, 2, 0, 0]}\n",
      "{'name': 'Kevin', 'primary': [1, 5, 3, 5, 1, 0, 3, 4, 3, 4], 'ideal_match': [2, 3, 1, 2, 0, 1, 5, 1, 5, 0], 'level_of_importance': [0, 0, 0, 2, 2, 0, 0, 0, 0, 1]}\n",
      "{'name': 'Rachel', 'primary': [3, 5, 0, 3, 5, 3, 0, 1, 5, 1], 'ideal_match': [3, 2, 4, 0, 4, 4, 3, 4, 0, 0], 'level_of_importance': [0, 2, 0, 0, 2, 2, 2, 0, 1, 2]}\n",
      "{'name': 'Monica', 'primary': [4, 4, 0, 0, 1, 2, 4, 0, 5, 0], 'ideal_match': [2, 1, 0, 2, 0, 3, 1, 5, 2, 3], 'level_of_importance': [0, 0, 2, 1, 1, 1, 1, 2, 0, 2]}\n",
      "{'name': 'Emily', 'primary': [0, 4, 4, 1, 5, 4, 1, 3, 0, 4], 'ideal_match': [1, 5, 2, 1, 4, 4, 0, 0, 0, 1], 'level_of_importance': [2, 1, 1, 2, 1, 2, 0, 1, 2, 2]}\n",
      "{'name': 'William', 'primary': [5, 2, 1, 2, 3, 0, 2, 5, 2, 5], 'ideal_match': [0, 0, 3, 4, 0, 4, 0, 4, 3, 1], 'level_of_importance': [2, 1, 2, 0, 2, 2, 0, 0, 1, 0]}\n"
     ]
    }
   ],
   "source": [
    "for mentee in mentees:\n",
    "    print(mentee)"
   ]
  },
  {
   "cell_type": "markdown",
   "metadata": {},
   "source": [
    "#### In this step we want to convert our list items(dictionaries), to data frames to make them easier to work with in performing analysis. This is a problem because the first key is not like the others in that it is a string and not a list of 10 integers. We remove it with the pop() function."
   ]
  },
  {
   "cell_type": "code",
   "execution_count": 228,
   "metadata": {},
   "outputs": [],
   "source": [
    "for mentor in mentors:\n",
    "    mentor.pop('name')"
   ]
  },
  {
   "cell_type": "markdown",
   "metadata": {},
   "source": [
    "Now we must assign the corresponding survey response key-value pairs to a variable with the participating mentor's name:"
   ]
  },
  {
   "cell_type": "code",
   "execution_count": 229,
   "metadata": {},
   "outputs": [],
   "source": [
    "Jose = pd.DataFrame.from_dict(mentors[0])\n",
    "Amanda = pd.DataFrame.from_dict(mentors[1])\n",
    "Francisco = pd.DataFrame.from_dict(mentors[2])\n",
    "Megan = pd.DataFrame.from_dict(mentors[3])\n",
    "Phil = pd.DataFrame.from_dict(mentors[4])\n",
    "Carla = pd.DataFrame.from_dict(mentors[5])"
   ]
  },
  {
   "cell_type": "markdown",
   "metadata": {},
   "source": [
    "We repeat this process for the mentees:"
   ]
  },
  {
   "cell_type": "code",
   "execution_count": 230,
   "metadata": {},
   "outputs": [],
   "source": [
    "for mentee in mentees:\n",
    "    mentee.pop('name')"
   ]
  },
  {
   "cell_type": "code",
   "execution_count": 231,
   "metadata": {},
   "outputs": [],
   "source": [
    "Chris = pd.DataFrame.from_dict(mentees[0])\n",
    "Kevin = pd.DataFrame.from_dict(mentees[1])\n",
    "Monica = pd.DataFrame.from_dict(mentees[2])\n",
    "Rachel = pd.DataFrame.from_dict(mentees[3])\n",
    "Emily = pd.DataFrame.from_dict(mentees[4])\n",
    "William = pd.DataFrame.from_dict(mentees[5])"
   ]
  },
  {
   "cell_type": "markdown",
   "metadata": {},
   "source": [
    "Finally we create a list of data frames to make parsing through them for analysis more efficient:"
   ]
  },
  {
   "cell_type": "code",
   "execution_count": 232,
   "metadata": {},
   "outputs": [],
   "source": [
    "df_mentors = [Jose, Amanda, Francisco, Megan, Phil, Carla]\n",
    "df_mentees = [Chris, Kevin, Monica, Rachel, Emily, William]"
   ]
  },
  {
   "cell_type": "markdown",
   "metadata": {},
   "source": [
    "### Task 1: Create a compatibility ranking system for mentors & mentees and return a dictionary with the name of each mentor as the value and a sorted list of mentees matched from most compatible to least compatible. "
   ]
  },
  {
   "cell_type": "code",
   "execution_count": 233,
   "metadata": {},
   "outputs": [],
   "source": [
    "#Your code here\n",
    "#Tip: Use the geometric mean of the mentor/mentee survey scores to determine compatibility score \n",
    "# used for ranking potential matches."
   ]
  },
  {
   "cell_type": "code",
   "execution_count": 234,
   "metadata": {
    "scrolled": true
   },
   "outputs": [
    {
     "name": "stdout",
     "output_type": "stream",
     "text": [
      "0    4\n",
      "1    1\n",
      "2    1\n",
      "3    5\n",
      "4    5\n",
      "5    2\n",
      "6    4\n",
      "7    4\n",
      "8    2\n",
      "9    4\n",
      "Name: ideal_match, dtype: int64\n",
      "0    4\n",
      "1    1\n",
      "2    1\n",
      "3    5\n",
      "4    5\n",
      "5    2\n",
      "6    4\n",
      "7    4\n",
      "8    2\n",
      "9    4\n",
      "Name: ideal_match, dtype: int64\n"
     ]
    }
   ],
   "source": [
    "print(Jose['ideal_match'])\n",
    "print(Jose.iloc[0:10,1])"
   ]
  },
  {
   "cell_type": "code",
   "execution_count": 235,
   "metadata": {},
   "outputs": [
    {
     "name": "stdout",
     "output_type": "stream",
     "text": [
      "0    5\n",
      "1    5\n",
      "2    0\n",
      "3    2\n",
      "4    2\n",
      "5    4\n",
      "6    2\n",
      "7    3\n",
      "8    0\n",
      "9    5\n",
      "Name: primary, dtype: int64\n"
     ]
    }
   ],
   "source": [
    "print(Chris['primary'])"
   ]
  },
  {
   "cell_type": "code",
   "execution_count": 236,
   "metadata": {},
   "outputs": [],
   "source": [
    "#ListComp (list completion) function accepts two dataframes as arguments, and returns a single list.  For mentor's\n",
    "#preferences and levels of importance matching with their ideal mentee, we would send the first mentor(Jose) \n",
    "#through the function 6 times, once per mentee.  Once this is done for all 6 mentors, we would do this for all\n",
    "#6 mentees, eventually iterating this function 6^2 * 2 times (=72), for 10 questions each, for a grand total of 720 values.\n",
    "def listComp(df1, df2):\n",
    "    list_match = []\n",
    "    for j in range(10): #for loop to iterate 10 times, the length of each individual's dictionary\n",
    "        if df1.iloc[j, 2] == 2: #j represents the current iteration of the for loop.  the 2 represents the third \n",
    "            #column of the (index 2) of the first dataframe.  Therefore, we are reading in each number from the third\n",
    "            #column as a loop.  If that value equals a 2, than that means that that person's level of importance is\n",
    "            #maxed out, and therefore, we will end up squaring the value that ends up in that persons ideal match\n",
    "            #column, which is indexed 1.\n",
    "            if abs(df1.iloc[j,1] - df2.iloc[j,0]) == 0: #From here, we will subtract the current person's ideal \n",
    "                #match number by the match's primary value to see how far apart the two people are. Say the first \n",
    "                # question has to do with cleanliness.  If person A finds cleanliness very important, and gives it a 2,\n",
    "                # and then gives an ideal match score of 5, and then person B also gives cleanliness a primary score\n",
    "                # of 5, then we will meet the requirement of this line's code.\n",
    "                list_match.append((df1.iloc[j, 1])**2) #Because it has a higher importance, we will take the value\n",
    "                #of the current ideal match column and square it, and then append it to a list that we will \n",
    "                # eventually return back for each person.  So if they match, and the score is a 5, the returned score\n",
    "                # for that question will be 25.\n",
    "            elif abs(df1.iloc[j,1] - df2.iloc[j,0]) == 1:\n",
    "                list_match.append(((df1.iloc[j, 1])**2)*0.5)#This mathematics can change for each person's matchmaking\n",
    "                #algorithm.  It would take a lot of research and trial-and-error to really find a mathematical\n",
    "                #algorithm that would connect ideal mentors to mentees, and luckily with Machine Learning, things like\n",
    "                #that can be automated nowadays.  For my code, I decided that if the absolute value of the difference\n",
    "                #between the ideal match score of person A and the primary score of person B is 1, than I can still \n",
    "                #square the value of the ideal match, but then I would multiply it in half.  Below, I do the same\n",
    "                #with a difference of 2, but then I divide it by 4.\n",
    "            elif abs(df1.iloc[j,1] - df2.iloc[j,0]) == 2:\n",
    "                list_match.append(((df1.iloc[j, 1])**2)*0.25)\n",
    "            else:\n",
    "                list_match.append(0)#Here, if the difference of scores is over 2, I don't believe that the two scores\n",
    "                #have anything in common, so we would just append a zero.\n",
    "        elif df1.iloc[j, 2] == 1:  #If the level of importance of person A is a 1, then we would do the same\n",
    "            #mathematics as above, but without sqaring anything first.  So if person A and person B had a 3 for ideal\n",
    "            #match and primary columns, respectively, I would just append whatever value is in person A's ideal match\n",
    "            #column.  This eliminates one level of mathematics and lowers the weight of importance of the value\n",
    "            #we are appending.\n",
    "            if abs(df1.iloc[j,1] - df2.iloc[j,0]) == 0:\n",
    "                list_match.append((df1.iloc[j, 1]))\n",
    "            elif abs(df1.iloc[j,1] - df2.iloc[j,0]) == 1:\n",
    "                list_match.append(((df1.iloc[j, 1]))*0.5)\n",
    "            elif abs(df1.iloc[j,1] - df2.iloc[j,0]) == 2:\n",
    "                list_match.append(((df1.iloc[j, 1]))*0.25)\n",
    "            else:\n",
    "                list_match.append(0)\n",
    "        else: #If the level of importance is a 0, we can just append a zero.  If it isn't important to the person, we\n",
    "            #don't really need to add it to the grand sum.  Once again, if we were to tinker with the code, eventually\n",
    "            #we might come up with something ideal, but we are showcasing the logic needed to come up with a working\n",
    "            #algorithm.\n",
    "            list_match.append(0)\n",
    "    return list_match\n",
    "    "
   ]
  },
  {
   "cell_type": "code",
   "execution_count": 237,
   "metadata": {},
   "outputs": [
    {
     "data": {
      "text/plain": [
       "[8.0, 0, 0.5, 0, 0, 0.5, 0, 8.0, 0.5, 2.0]"
      ]
     },
     "execution_count": 237,
     "metadata": {},
     "output_type": "execute_result"
    }
   ],
   "source": [
    "listComp(Jose, Chris)#Example to show how this works\n",
    "#As we see below, the 10th value is 12.5  Jose's level of importance for question 1 was 2, so we know we are gonna\n",
    "#square something.  His ideal_match score is 5, and Chris' primary match score is 4.  With a difference of one, we\n",
    "#are going to square the ideal_match number (5^2=25) and then multiply it by .5 to get 12.5...as you can see\n",
    "#below."
   ]
  },
  {
   "cell_type": "code",
   "execution_count": 238,
   "metadata": {},
   "outputs": [],
   "source": [
    "def geoMean(list1, list2): #Takes two lists as arguments.  This is to calculate geometric mean.\n",
    "    match_score1 = sum(list1)/len(list1) #Our math is to take the sum of the values and divide it by 10 to get\n",
    "    #the match score for person A.  We will repeat this below for person B.\n",
    "    match_score2 = sum(list2)/len(list2)\n",
    "    return (match_score1*match_score2)**0.5#Scores multiplied together, and then square rooted."
   ]
  },
  {
   "cell_type": "code",
   "execution_count": 239,
   "metadata": {},
   "outputs": [
    {
     "data": {
      "text/plain": [
       "2.2839111191112496"
      ]
     },
     "execution_count": 239,
     "metadata": {},
     "output_type": "execute_result"
    }
   ],
   "source": [
    "geoMean(listComp(Jose, Chris), listComp(Chris, Jose))"
   ]
  },
  {
   "cell_type": "code",
   "execution_count": 240,
   "metadata": {},
   "outputs": [],
   "source": [
    "def get_df_name(df): #This is a function to get the name of the person we are currently iterating on, and attaching\n",
    "    #it to the outside of a dictionary, to create a dictionary of dictionary.\n",
    "    name = [x for x in globals() if globals()[x] is df][0]#The globals method returns the dictionary of the current\n",
    "    #global symbol table.  So if we are entering a dataframe of Jose, this function literally just returns\n",
    "    #the string of \"Jose\".  The if statement makes sure this only works if the argument is a dataframe.  The \"[0]\"\n",
    "    #assigns the value of column zero to name, and if we had previously set up all the previous functions to \n",
    "    #build the dictionaries/dataframes properly, this should execute.\n",
    "    return name"
   ]
  },
  {
   "cell_type": "code",
   "execution_count": 241,
   "metadata": {},
   "outputs": [],
   "source": [
    "def matching(df_list1, df_list2): #automated function that takes lists of dataframes of mentors and mentees\n",
    "    #responses, and eventually we will have matching scores for each combo of mentor and mentee.\n",
    "    dict1 = {} #two empty dictionaries.  dict1 will be outer dictionary that contains the mentor or mentee we\n",
    "    #are currently finding the six matching scores for.  Person A's dictionary\n",
    "    dict2 = {} #inner empty dictionary that will eventually contain the six matching scores that go with Person A.\n",
    "    #Basically contains 6 person B's names and corresponding scores as a ('key',value) pair.\n",
    "    for i in df_list1:#iterate i as outer loop\n",
    "        for j in df_list2:#iterate j as inner loop\n",
    "            dict2[get_df_name(j)] = round(geoMean(listComp(i, j), listComp(j, i)), 2) #first part attaches\n",
    "            #person B's name as current key.  everything on right side of equal sign creates value to match\n",
    "            #with current key. We are sending two lists into the geoMean function as arguments, and then rounding\n",
    "            #that value by two decimals.\n",
    "        dict1[get_df_name(i)] = sorted(dict2.items(), key=lambda x: x[1], reverse=True)#Outer loop attaches\n",
    "        #person A's name as a key.  The key-value pair for the outer dictionary is (person A: dictionary of\n",
    "        #matching values).  The second part of the code is a little complex, but we are sorting dict2 by x[1]'s\n",
    "        #value, which would be whatever the score is.  Therefore, the final complete inner dictionaries will be\n",
    "        #sorted in a descending order by match score.\n",
    "    return dict1"
   ]
  },
  {
   "cell_type": "code",
   "execution_count": 242,
   "metadata": {},
   "outputs": [],
   "source": [
    "optimal_mentor_matches = matching(df_mentors, df_mentees)"
   ]
  },
  {
   "cell_type": "code",
   "execution_count": 243,
   "metadata": {},
   "outputs": [],
   "source": [
    "optimal_mentee_matches = matching(df_mentees, df_mentors)"
   ]
  },
  {
   "cell_type": "code",
   "execution_count": 244,
   "metadata": {},
   "outputs": [
    {
     "data": {
      "text/plain": [
       "{'Jose': [('Chris', 2.28),\n",
       "  ('Monica', 1.61),\n",
       "  ('William', 1.23),\n",
       "  ('Emily', 1.22),\n",
       "  ('Rachel', 1.18),\n",
       "  ('Kevin', 0.52)],\n",
       " 'Amanda': [('Rachel', 1.87),\n",
       "  ('Chris', 1.72),\n",
       "  ('Monica', 1.32),\n",
       "  ('Kevin', 1.2),\n",
       "  ('Emily', 0.46),\n",
       "  ('William', 0.42)],\n",
       " 'Francisco': [('Rachel', 0.95),\n",
       "  ('Monica', 0.63),\n",
       "  ('Chris', 0.56),\n",
       "  ('Emily', 0.35),\n",
       "  ('Kevin', 0.33),\n",
       "  ('William', 0.26)],\n",
       " 'Megan': [('William', 0.85),\n",
       "  ('Chris', 0.57),\n",
       "  ('Emily', 0.57),\n",
       "  ('Monica', 0.55),\n",
       "  ('Rachel', 0.47),\n",
       "  ('Kevin', 0.0)],\n",
       " 'Phil': [('Emily', 1.7),\n",
       "  ('Chris', 1.64),\n",
       "  ('Monica', 1.27),\n",
       "  ('William', 1.23),\n",
       "  ('Rachel', 0.7),\n",
       "  ('Kevin', 0.47)],\n",
       " 'Carla': [('Chris', 1.54),\n",
       "  ('Emily', 1.36),\n",
       "  ('William', 1.29),\n",
       "  ('Monica', 1.15),\n",
       "  ('Rachel', 0.8),\n",
       "  ('Kevin', 0.41)]}"
      ]
     },
     "execution_count": 244,
     "metadata": {},
     "output_type": "execute_result"
    }
   ],
   "source": [
    "optimal_mentor_matches"
   ]
  },
  {
   "cell_type": "code",
   "execution_count": 245,
   "metadata": {},
   "outputs": [
    {
     "data": {
      "text/plain": [
       "{'Chris': [('Jose', 2.28),\n",
       "  ('Amanda', 1.72),\n",
       "  ('Phil', 1.64),\n",
       "  ('Carla', 1.54),\n",
       "  ('Megan', 0.57),\n",
       "  ('Francisco', 0.56)],\n",
       " 'Kevin': [('Amanda', 1.2),\n",
       "  ('Jose', 0.52),\n",
       "  ('Phil', 0.47),\n",
       "  ('Carla', 0.41),\n",
       "  ('Francisco', 0.33),\n",
       "  ('Megan', 0.0)],\n",
       " 'Monica': [('Jose', 1.61),\n",
       "  ('Amanda', 1.32),\n",
       "  ('Phil', 1.27),\n",
       "  ('Carla', 1.15),\n",
       "  ('Francisco', 0.63),\n",
       "  ('Megan', 0.55)],\n",
       " 'Rachel': [('Amanda', 1.87),\n",
       "  ('Jose', 1.18),\n",
       "  ('Francisco', 0.95),\n",
       "  ('Carla', 0.8),\n",
       "  ('Phil', 0.7),\n",
       "  ('Megan', 0.47)],\n",
       " 'Emily': [('Phil', 1.7),\n",
       "  ('Carla', 1.36),\n",
       "  ('Jose', 1.22),\n",
       "  ('Megan', 0.57),\n",
       "  ('Amanda', 0.46),\n",
       "  ('Francisco', 0.35)],\n",
       " 'William': [('Carla', 1.29),\n",
       "  ('Jose', 1.23),\n",
       "  ('Phil', 1.23),\n",
       "  ('Megan', 0.85),\n",
       "  ('Amanda', 0.42),\n",
       "  ('Francisco', 0.26)]}"
      ]
     },
     "execution_count": 245,
     "metadata": {},
     "output_type": "execute_result"
    }
   ],
   "source": [
    "optimal_mentee_matches"
   ]
  },
  {
   "cell_type": "markdown",
   "metadata": {},
   "source": [
    "### Task 2: Based on the sorted list of potential matches pair every mentor with their best available mentee match."
   ]
  },
  {
   "cell_type": "code",
   "execution_count": 246,
   "metadata": {},
   "outputs": [
    {
     "name": "stdout",
     "output_type": "stream",
     "text": [
      "('Chris', 2.28)\n"
     ]
    }
   ],
   "source": [
    "print(optimal_mentor_matches['Jose'][0])"
   ]
  },
  {
   "cell_type": "code",
   "execution_count": 247,
   "metadata": {},
   "outputs": [
    {
     "name": "stdout",
     "output_type": "stream",
     "text": [
      "Jose Chris 2.28\n",
      "Jose Monica 1.61\n",
      "Jose William 1.23\n",
      "Jose Emily 1.22\n",
      "Jose Rachel 1.18\n",
      "Jose Kevin 0.52\n",
      "Amanda Rachel 1.87\n",
      "Amanda Chris 1.72\n",
      "Amanda Monica 1.32\n",
      "Amanda Kevin 1.2\n",
      "Amanda Emily 0.46\n",
      "Amanda William 0.42\n",
      "Francisco Rachel 0.95\n",
      "Francisco Monica 0.63\n",
      "Francisco Chris 0.56\n",
      "Francisco Emily 0.35\n",
      "Francisco Kevin 0.33\n",
      "Francisco William 0.26\n",
      "Megan William 0.85\n",
      "Megan Chris 0.57\n",
      "Megan Emily 0.57\n",
      "Megan Monica 0.55\n",
      "Megan Rachel 0.47\n",
      "Megan Kevin 0.0\n",
      "Phil Emily 1.7\n",
      "Phil Chris 1.64\n",
      "Phil Monica 1.27\n",
      "Phil William 1.23\n",
      "Phil Rachel 0.7\n",
      "Phil Kevin 0.47\n",
      "Carla Chris 1.54\n",
      "Carla Emily 1.36\n",
      "Carla William 1.29\n",
      "Carla Monica 1.15\n",
      "Carla Rachel 0.8\n",
      "Carla Kevin 0.41\n"
     ]
    }
   ],
   "source": [
    "for key, value in optimal_mentor_matches.items():\n",
    "    for k, v in value:\n",
    "        print(key, k, v)"
   ]
  },
  {
   "cell_type": "code",
   "execution_count": 248,
   "metadata": {},
   "outputs": [
    {
     "name": "stdout",
     "output_type": "stream",
     "text": [
      "[[2.28, 'Jose', 'Chris'], [1.61, 'Jose', 'Monica'], [1.23, 'Jose', 'William'], [1.22, 'Jose', 'Emily'], [1.18, 'Jose', 'Rachel'], [0.52, 'Jose', 'Kevin'], [1.87, 'Amanda', 'Rachel'], [1.72, 'Amanda', 'Chris'], [1.32, 'Amanda', 'Monica'], [1.2, 'Amanda', 'Kevin'], [0.46, 'Amanda', 'Emily'], [0.42, 'Amanda', 'William'], [0.95, 'Francisco', 'Rachel'], [0.63, 'Francisco', 'Monica'], [0.56, 'Francisco', 'Chris'], [0.35, 'Francisco', 'Emily'], [0.33, 'Francisco', 'Kevin'], [0.26, 'Francisco', 'William'], [0.85, 'Megan', 'William'], [0.57, 'Megan', 'Chris'], [0.57, 'Megan', 'Emily'], [0.55, 'Megan', 'Monica'], [0.47, 'Megan', 'Rachel'], [0.0, 'Megan', 'Kevin'], [1.7, 'Phil', 'Emily'], [1.64, 'Phil', 'Chris'], [1.27, 'Phil', 'Monica'], [1.23, 'Phil', 'William'], [0.7, 'Phil', 'Rachel'], [0.47, 'Phil', 'Kevin'], [1.54, 'Carla', 'Chris'], [1.36, 'Carla', 'Emily'], [1.29, 'Carla', 'William'], [1.15, 'Carla', 'Monica'], [0.8, 'Carla', 'Rachel'], [0.41, 'Carla', 'Kevin']]\n"
     ]
    }
   ],
   "source": [
    "list1 = []\n",
    "for key, value in optimal_mentor_matches.items():\n",
    "    for k, v in value:\n",
    "        for i in k:\n",
    "            list2 = []\n",
    "            list2.append(v)\n",
    "            list2.append(key)\n",
    "            list2.append(k)\n",
    "        list1.append(list2)\n",
    "print(list1)"
   ]
  },
  {
   "cell_type": "code",
   "execution_count": 249,
   "metadata": {},
   "outputs": [],
   "source": [
    "list1.sort(key = lambda i: i[0], reverse=True)"
   ]
  },
  {
   "cell_type": "code",
   "execution_count": 250,
   "metadata": {},
   "outputs": [
    {
     "data": {
      "text/plain": [
       "[[2.28, 'Jose', 'Chris'],\n",
       " [1.87, 'Amanda', 'Rachel'],\n",
       " [1.72, 'Amanda', 'Chris'],\n",
       " [1.7, 'Phil', 'Emily'],\n",
       " [1.64, 'Phil', 'Chris'],\n",
       " [1.61, 'Jose', 'Monica'],\n",
       " [1.54, 'Carla', 'Chris'],\n",
       " [1.36, 'Carla', 'Emily'],\n",
       " [1.32, 'Amanda', 'Monica'],\n",
       " [1.29, 'Carla', 'William'],\n",
       " [1.27, 'Phil', 'Monica'],\n",
       " [1.23, 'Jose', 'William'],\n",
       " [1.23, 'Phil', 'William'],\n",
       " [1.22, 'Jose', 'Emily'],\n",
       " [1.2, 'Amanda', 'Kevin'],\n",
       " [1.18, 'Jose', 'Rachel'],\n",
       " [1.15, 'Carla', 'Monica'],\n",
       " [0.95, 'Francisco', 'Rachel'],\n",
       " [0.85, 'Megan', 'William'],\n",
       " [0.8, 'Carla', 'Rachel'],\n",
       " [0.7, 'Phil', 'Rachel'],\n",
       " [0.63, 'Francisco', 'Monica'],\n",
       " [0.57, 'Megan', 'Chris'],\n",
       " [0.57, 'Megan', 'Emily'],\n",
       " [0.56, 'Francisco', 'Chris'],\n",
       " [0.55, 'Megan', 'Monica'],\n",
       " [0.52, 'Jose', 'Kevin'],\n",
       " [0.47, 'Megan', 'Rachel'],\n",
       " [0.47, 'Phil', 'Kevin'],\n",
       " [0.46, 'Amanda', 'Emily'],\n",
       " [0.42, 'Amanda', 'William'],\n",
       " [0.41, 'Carla', 'Kevin'],\n",
       " [0.35, 'Francisco', 'Emily'],\n",
       " [0.33, 'Francisco', 'Kevin'],\n",
       " [0.26, 'Francisco', 'William'],\n",
       " [0.0, 'Megan', 'Kevin']]"
      ]
     },
     "execution_count": 250,
     "metadata": {},
     "output_type": "execute_result"
    }
   ],
   "source": [
    "list1"
   ]
  },
  {
   "cell_type": "code",
   "execution_count": 251,
   "metadata": {},
   "outputs": [],
   "source": [
    "def stable(list):\n",
    "    new_mentors = []\n",
    "    new_mentees = []\n",
    "    new_final_list = []\n",
    "    for i in list:\n",
    "        if i[1] not in new_mentors and i[2] not in new_mentees:\n",
    "            new_final_list.append(i)\n",
    "            new_mentors.append(i[1])\n",
    "            new_mentees.append(i[2])\n",
    "            \n",
    "    print(new_final_list)\n",
    "                    \n",
    "        \n",
    "        "
   ]
  },
  {
   "cell_type": "code",
   "execution_count": 252,
   "metadata": {},
   "outputs": [
    {
     "name": "stdout",
     "output_type": "stream",
     "text": [
      "[[2.28, 'Jose', 'Chris'], [1.87, 'Amanda', 'Rachel'], [1.7, 'Phil', 'Emily'], [1.29, 'Carla', 'William'], [0.63, 'Francisco', 'Monica'], [0.0, 'Megan', 'Kevin']]\n"
     ]
    }
   ],
   "source": [
    "stable(list1)"
   ]
  },
  {
   "cell_type": "code",
   "execution_count": null,
   "metadata": {},
   "outputs": [],
   "source": []
  },
  {
   "cell_type": "code",
   "execution_count": null,
   "metadata": {},
   "outputs": [],
   "source": []
  }
 ],
 "metadata": {
  "kernelspec": {
   "display_name": "Python 3",
   "language": "python",
   "name": "python3"
  },
  "language_info": {
   "codemirror_mode": {
    "name": "ipython",
    "version": 3
   },
   "file_extension": ".py",
   "mimetype": "text/x-python",
   "name": "python",
   "nbconvert_exporter": "python",
   "pygments_lexer": "ipython3",
   "version": "3.8.3"
  }
 },
 "nbformat": 4,
 "nbformat_minor": 4
}
